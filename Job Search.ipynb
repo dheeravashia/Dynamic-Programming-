{
 "cells": [
  {
   "cell_type": "markdown",
   "id": "ede15d00",
   "metadata": {},
   "source": [
    "$\\text{Economics 502-B} \\\\ \\text{Dheer Avashia} \\\\ \\text{Problem Set 2}$"
   ]
  },
  {
   "cell_type": "code",
   "execution_count": 146,
   "id": "658d2f36",
   "metadata": {},
   "outputs": [],
   "source": [
    "#Install packages\n",
    "import numpy as np\n",
    "from quantecon.distributions import BetaBinomial\n",
    "import matplotlib.pyplot as plt\n",
    "from scipy.optimize import fsolve as fs\n",
    "from scipy.optimize import minimize as mini\n",
    "from numba import njit\n",
    "from collections import namedtuple\n",
    "from quantecon import compute_fixed_point\n",
    "from quantecon.markov import tauchen"
   ]
  },
  {
   "cell_type": "markdown",
   "id": "d413d2bd",
   "metadata": {},
   "source": [
    "$\\text{Question 1}$"
   ]
  },
  {
   "cell_type": "markdown",
   "id": "03b26af0",
   "metadata": {},
   "source": [
    "$\\text{a)}$ The following Bellman Equation may be used for the case in which there is only a\n",
    "probability $\\gamma$ with $0 < \\gamma < 1$ that the worker receives an offer in each period:\n",
    "$$\\begin{align} v^*(w) = max \\left\\{\\frac{w}{1-\\beta},c + \\beta \\left[\\gamma \\sum_{w' \\in W}v^*(w)\\varphi(w)+ (1-\\gamma)c\\right]\\right\\}\\end{align}$$ \n",
    "\n"
   ]
  },
  {
   "cell_type": "markdown",
   "id": "4c2b057d",
   "metadata": {},
   "source": [
    "$\\text{b)}$ Suppose $h^* := c + \\beta \\left[\\gamma \\sum_{w' \\in W}v^*(w)\\varphi(w)+ (1-\\gamma)c\\right]$ then note that the reservation wage must be where $h^*=\\frac{w}{1-\\beta}$. Note that as $\\gamma$ increases the effect of the uncertainity of getting an offer in the next period decreases. This means that a worker will demand a higher reservation wage, as compared to when the uncertainity of getting an offer is higher. Mathematically, this equation when written out in terms of $w$, is increasring in $\\gamma$."
   ]
  },
  {
   "cell_type": "markdown",
   "id": "44bf9bab",
   "metadata": {},
   "source": [
    "$\\text{c)}$ Solve the model computationally for a generic $\\gamma$"
   ]
  },
  {
   "cell_type": "code",
   "execution_count": 147,
   "id": "07340a77",
   "metadata": {},
   "outputs": [],
   "source": [
    "# NamedTuple Model\n",
    "ModelJobSearch = namedtuple(\"Model\", (\"n\", \"w_vals\", \"φ\", \"β\", \"c\",\"γ\"))\n",
    "\n",
    "def create_job_search_model(\n",
    "        n=50,        # wage grid size\n",
    "        w_min=10.0,  # lowest wage\n",
    "        w_max=60.0,  # highest wage\n",
    "        a=200,       # wage distribution parameter\n",
    "        b=100,       # wage distribution parameter\n",
    "        β=0.96,      # discount factor\n",
    "        c=10.0,      # unemployment compensation\n",
    "        γ=0.45,      #Probablity of offer\n",
    "    ):\n",
    "    \"\"\"\n",
    "    Creates the parameters for job search model and returns the\n",
    "    instance of namedtuple Model\n",
    "    \"\"\"\n",
    "    w_vals = np.linspace(w_min, w_max, n+1)\n",
    "    φ = BetaBinomial(n, a, b).pdf()\n",
    "    return ModelJobSearch(n=n, w_vals=w_vals, φ=φ, β=β, c=c, γ=γ)"
   ]
  },
  {
   "cell_type": "code",
   "execution_count": 148,
   "id": "5e19218c",
   "metadata": {},
   "outputs": [],
   "source": [
    "#Bellman Operator\n",
    "@njit\n",
    "def T(v, model):\n",
    "    \"\"\" The Bellman operator. \"\"\"\n",
    "    n, w_vals, φ, β, c, γ= model\n",
    "    cont_val= c + β*(γ*(np.dot(v , φ))+(1-γ)*c)\n",
    "    stop_val=(w_vals)/(1-β)\n",
    "    return np.maximum(stop_val,cont_val)"
   ]
  },
  {
   "cell_type": "code",
   "execution_count": 149,
   "id": "8ed56cc0",
   "metadata": {},
   "outputs": [],
   "source": [
    "default_model = create_job_search_model()"
   ]
  },
  {
   "cell_type": "code",
   "execution_count": 150,
   "id": "06dd8f73",
   "metadata": {},
   "outputs": [],
   "source": [
    "@njit\n",
    "def get_greedy(v, model):\n",
    "    \"\"\" Get a v-greedy policy. \"\"\"\n",
    "    n, w_vals, φ, β, c, γ= model\n",
    "    σ = w_vals / (1 - β) >= c + β*(γ*(np.dot(v,φ))+(1-γ)*c)  # Boolean policy vector\n",
    "    return σ"
   ]
  },
  {
   "cell_type": "code",
   "execution_count": 151,
   "id": "48f50cf1",
   "metadata": {},
   "outputs": [],
   "source": [
    "def vfi(model=default_model):\n",
    "    \"\"\" Solve the infinite-horizon IID job search model by VFI. \"\"\"\n",
    "    v_init = np.zeros_like(model.w_vals)\n",
    "    v_star = compute_fixed_point(lambda v: T(v, model), v_init,\n",
    "                             error_tol=1e-3, max_iter=1000, print_skip=25)\n",
    "    σ_star = get_greedy(v_star, model)\n",
    "    return v_star, σ_star"
   ]
  },
  {
   "cell_type": "code",
   "execution_count": 152,
   "id": "567e1b21",
   "metadata": {
    "scrolled": true
   },
   "outputs": [
    {
     "name": "stdout",
     "output_type": "stream",
     "text": [
      "Iteration    Distance       Elapsed (seconds)\n",
      "---------------------------------------------\n",
      "3            3.968e-10      1.604e-01         \n",
      "Converged in 3 steps\n"
     ]
    },
    {
     "data": {
      "text/plain": [
       "(array([ 483.28,  483.28,  483.28,  483.28,  483.28,  483.28,  483.28,\n",
       "         483.28,  483.28,  483.28,  500.  ,  525.  ,  550.  ,  575.  ,\n",
       "         600.  ,  625.  ,  650.  ,  675.  ,  700.  ,  725.  ,  750.  ,\n",
       "         775.  ,  800.  ,  825.  ,  850.  ,  875.  ,  900.  ,  925.  ,\n",
       "         950.  ,  975.  , 1000.  , 1025.  , 1050.  , 1075.  , 1100.  ,\n",
       "        1125.  , 1150.  , 1175.  , 1200.  , 1225.  , 1250.  , 1275.  ,\n",
       "        1300.  , 1325.  , 1350.  , 1375.  , 1400.  , 1425.  , 1450.  ,\n",
       "        1475.  , 1500.  ]),\n",
       " array([False, False, False, False, False, False, False, False, False,\n",
       "        False,  True,  True,  True,  True,  True,  True,  True,  True,\n",
       "         True,  True,  True,  True,  True,  True,  True,  True,  True,\n",
       "         True,  True,  True,  True,  True,  True,  True,  True,  True,\n",
       "         True,  True,  True,  True,  True,  True,  True,  True,  True,\n",
       "         True,  True,  True,  True,  True,  True]))"
      ]
     },
     "execution_count": 152,
     "metadata": {},
     "output_type": "execute_result"
    }
   ],
   "source": [
    "vfi()"
   ]
  },
  {
   "cell_type": "markdown",
   "id": "c986732b",
   "metadata": {},
   "source": [
    "$\\text{d)}$ Plot how the reservation wage varies with $\\gamma$ for $\\gamma = 0.1, 0.2, .....0.9, 1$"
   ]
  },
  {
   "cell_type": "code",
   "execution_count": 153,
   "id": "b772ca00",
   "metadata": {},
   "outputs": [
    {
     "name": "stdout",
     "output_type": "stream",
     "text": [
      "Iteration    Distance       Elapsed (seconds)\n",
      "---------------------------------------------\n",
      "2            0.000e+00      1.848e-04         \n",
      "Converged in 2 steps\n",
      "Iteration    Distance       Elapsed (seconds)\n",
      "---------------------------------------------\n",
      "2            0.000e+00      1.194e-04         \n",
      "Converged in 2 steps\n",
      "Iteration    Distance       Elapsed (seconds)\n",
      "---------------------------------------------\n",
      "3            0.000e+00      1.731e-04         \n",
      "Converged in 3 steps\n",
      "Iteration    Distance       Elapsed (seconds)\n",
      "---------------------------------------------\n",
      "3            4.889e-12      1.552e-04         \n",
      "Converged in 3 steps\n",
      "Iteration    Distance       Elapsed (seconds)\n",
      "---------------------------------------------\n",
      "3            1.891e-08      1.171e-04         \n",
      "Converged in 3 steps\n",
      "Iteration    Distance       Elapsed (seconds)\n",
      "---------------------------------------------\n",
      "3            1.244e-05      1.154e-04         \n",
      "Converged in 3 steps\n",
      "Iteration    Distance       Elapsed (seconds)\n",
      "---------------------------------------------\n",
      "4            1.598e-07      1.507e-04         \n",
      "Converged in 4 steps\n",
      "Iteration    Distance       Elapsed (seconds)\n",
      "---------------------------------------------\n",
      "4            3.705e-04      1.523e-04         \n",
      "Converged in 4 steps\n",
      "Iteration    Distance       Elapsed (seconds)\n",
      "---------------------------------------------\n",
      "6            2.669e-04      2.625e-04         \n",
      "Converged in 6 steps\n",
      "Iteration    Distance       Elapsed (seconds)\n",
      "---------------------------------------------\n",
      "17           6.662e-04      6.487e-04         \n",
      "Converged in 17 steps\n"
     ]
    }
   ],
   "source": [
    "res_wages= np.zeros(10)\n",
    "for gamma_i in range(1,11):\n",
    "    γ = gamma_i/10\n",
    "    model = create_job_search_model(γ=γ)\n",
    "    greedy_policy= list(vfi(model=model)[1])\n",
    "    res_wage = model.w_vals[0] + greedy_policy.index(True)\n",
    "    res_wages[gamma_i-1]= res_wage"
   ]
  },
  {
   "cell_type": "code",
   "execution_count": 154,
   "id": "3777a69f",
   "metadata": {},
   "outputs": [
    {
     "name": "stdout",
     "output_type": "stream",
     "text": [
      "[10. 10. 14. 18. 22. 26. 30. 34. 38. 44.]\n"
     ]
    },
    {
     "data": {
      "image/png": "[encoded data removed]",
      "text/plain": [
       "<Figure size 640x480 with 1 Axes>"
      ]
     },
     "metadata": {},
     "output_type": "display_data"
    }
   ],
   "source": [
    "print(res_wages)\n",
    "γ_vals=np.arange(0.1,1.1,0.1)\n",
    "plt.plot(γ_vals,res_wages)\n",
    "plt.xlabel('Probability of an offer')\n",
    "plt.ylabel('Reservation Wage')\n",
    "plt.title('γ and Reservation Wage Plot')\n",
    "plt.show()"
   ]
  },
  {
   "cell_type": "markdown",
   "id": "55f756ec",
   "metadata": {},
   "source": [
    "$\\text{Question 2}$"
   ]
  },
  {
   "cell_type": "markdown",
   "id": "9420fcce",
   "metadata": {},
   "source": [
    "$\\text{a)}$ Observe that our Markov stochastic matrix is of the form $M=\\begin{pmatrix} 0.6 & 0.4 \\\\ 0.2 & 0.8 \\end{pmatrix}$. Note that this is aperiodic and irreducible, therefore a steady state must exsist. Consider the following:"
   ]
  },
  {
   "cell_type": "code",
   "execution_count": 155,
   "id": "1e9d1260",
   "metadata": {},
   "outputs": [
    {
     "name": "stdout",
     "output_type": "stream",
     "text": [
      "[[0.6 0.4]\n",
      " [0.2 0.8]] \n",
      "\n",
      "[[0.33340324 0.66659676]\n",
      " [0.33329838 0.66670162]] \n",
      "\n",
      "[[0.33333333 0.66666667]\n",
      " [0.33333333 0.66666667]] \n",
      "\n",
      "[[0.33333333 0.66666667]\n",
      " [0.33333333 0.66666667]] \n",
      "\n",
      "[[0.33333333 0.66666667]\n",
      " [0.33333333 0.66666667]] \n",
      "\n",
      "[[0.33333333 0.66666667]\n",
      " [0.33333333 0.66666667]] \n",
      "\n",
      "[[0.33333333 0.66666667]\n",
      " [0.33333333 0.66666667]] \n",
      "\n"
     ]
    }
   ],
   "source": [
    "M = np.array([[0.6,0.4],[0.2,0.8]]) \n",
    "# N iterations of M^N\n",
    "N= 1000 \n",
    "for i in range(1,N+1):\n",
    "    Steady_state= np.linalg.matrix_power(M,i)\n",
    "    if i in [1,10,50,100,250,500,1000]:\n",
    "        print(Steady_state, '\\n')"
   ]
  },
  {
   "cell_type": "markdown",
   "id": "c96c8709",
   "metadata": {},
   "source": [
    "Observe that the iterations converge to steady state stochastic vector $\\psi=(\\frac{1}{3},\\frac{2}{3})$. Then the Bellman equation is charectrized as follows: $$\\begin{align*} v^*(w,e_t) &= \\max\\left\\{ \\sum_{k=t}^{\\infty} \\beta^{k-t} \\left( \\psi_0w + \\psi_1\\frac{3}{2}w \\right), c + \\beta \\sum_{w' \\in W} \\psi_0 v^*\\left(w',0\\right)P\\left(w,w'\\right) + \\psi_1 v^*\\left(w',1\\right)P\\left(w,w')\\right)\\right\\} \\\\ &= \\max\\left\\{ \\sum_{k=t}^{\\infty} \\beta^{k-t} \\left( \\frac{1}{3}w + \\frac{2}{3}\\cdot\\frac{3}{2}w \\right), c + \\beta \\sum_{w' \\in W} \\frac{1}{3} v^*\\left(w',0\\right)P\\left(w,w'\\right) + \\frac{2}{3} v^*\\left(w',1\\right)P\\left(w,w')\\right)\\right\\} \\\\ &= \\max\\left\\{ \\frac{1}{1-\\beta} \\cdot \\left( \\frac{4}{3}w \\right), c + \\beta \\sum_{w' \\in W} \\frac{1}{3} v^*\\left(w',0\\right)P\\left(w,w'\\right) + \\frac{2}{3} v^*\\left(w',1\\right)P\\left(w,w')\\right)\\right\\} \\\\ &= \\max\\left\\{ \\frac{4w}{3\\cdot(1-\\beta)}, c + \\beta \\sum_{w' \\in W} v^*\\left(w',e_{t}\\right)P\\left(w,w'\\right)\\right\\} \\end{align*} \\\\ $$"
   ]
  },
  {
   "cell_type": "markdown",
   "id": "0828c29f",
   "metadata": {},
   "source": [
    "$\\text{b)}$ I believe it is the same because despite out starting state we always converge to the steady state $\\psi$ which follows from the argument above."
   ]
  },
  {
   "cell_type": "markdown",
   "id": "ae365d6f",
   "metadata": {},
   "source": [
    "$\\text{c)}$"
   ]
  },
  {
   "cell_type": "code",
   "execution_count": 14,
   "id": "f6e3af5d",
   "metadata": {},
   "outputs": [],
   "source": [
    "# NamedTuple Model\n",
    "Model = namedtuple(\"Model\", (\"n\", \"w_vals\", \"P\", \"β\", \"c\"))\n",
    "\n",
    "def create_markov_js_model(\n",
    "        n=200,       # wage grid size\n",
    "        ρ=0.9,       # wage persistence\n",
    "        ν=0.2,       # wage volatility\n",
    "        β=0.98,      # discount factor\n",
    "        c=1.0        # unemployment compensation\n",
    "    ):\n",
    "    \"\"\"\n",
    "    Creates an instance of the job search model with Markov wages.\n",
    "    \"\"\"\n",
    "    mc = tauchen(n, ρ, ν)\n",
    "    w_vals, P = np.exp(mc.state_values), mc.P\n",
    "    return Model(n=n, w_vals=w_vals, P=P, β=β, c=c)"
   ]
  },
  {
   "cell_type": "code",
   "execution_count": 15,
   "id": "3c564325",
   "metadata": {},
   "outputs": [],
   "source": [
    "model_2= create_markov_js_model()"
   ]
  },
  {
   "cell_type": "code",
   "execution_count": 16,
   "id": "34e83d20",
   "metadata": {},
   "outputs": [],
   "source": [
    "@njit\n",
    "def T_1(v, model):\n",
    "    n, w_vals, P, β, c = model\n",
    "    h = c + β * np.dot(P, v)\n",
    "    e = (4*(w_vals)) / (3*(1 - β))\n",
    "    return np.maximum(e, h)"
   ]
  },
  {
   "cell_type": "code",
   "execution_count": 17,
   "id": "1d0945b5",
   "metadata": {},
   "outputs": [],
   "source": [
    "@njit\n",
    "def get_greedy_mark(v, model):\n",
    "    \"\"\" Get a v-greedy policy. \"\"\"\n",
    "    n, w_vals, P, β, c = model\n",
    "    σ =(4*(w_vals)) / (3*(1 - β)) >= c + β * np.dot(P, v)  # Boolean policy vector\n",
    "    return σ"
   ]
  },
  {
   "cell_type": "code",
   "execution_count": 18,
   "id": "3bd0c07f",
   "metadata": {},
   "outputs": [],
   "source": [
    "def vfi_mark(model):\n",
    "    \"\"\" Solve the infinite-horizon Markov IID job search model by VFI. \"\"\"\n",
    "    v_init = np.zeros_like(model.w_vals)\n",
    "    v_star = compute_fixed_point(lambda v: T_1(v, model), v_init,\n",
    "                             error_tol=1e-5, max_iter=1000, print_skip=25)\n",
    "    σ_star = get_greedy_mark(v_star, model)\n",
    "    return v_star, σ_star"
   ]
  },
  {
   "cell_type": "code",
   "execution_count": 19,
   "id": "58593bfc",
   "metadata": {},
   "outputs": [
    {
     "name": "stdout",
     "output_type": "stream",
     "text": [
      "Iteration    Distance       Elapsed (seconds)\n",
      "---------------------------------------------\n",
      "25           8.307e-01      4.503e-01         \n",
      "50           2.185e-01      4.515e-01         \n",
      "75           6.855e-02      4.526e-01         \n",
      "100          2.253e-02      4.537e-01         \n",
      "125          7.501e-03      4.549e-01         \n",
      "150          2.499e-03      4.560e-01         \n",
      "175          8.323e-04      4.571e-01         \n",
      "200          2.773e-04      4.582e-01         \n",
      "225          9.236e-05      4.594e-01         \n",
      "250          3.077e-05      4.608e-01         \n",
      "275          1.025e-05      4.618e-01         \n",
      "276          9.808e-06      4.619e-01         \n",
      "Converged in 276 steps\n"
     ]
    }
   ],
   "source": [
    "soln=vfi_mark(model_2)"
   ]
  },
  {
   "cell_type": "code",
   "execution_count": 20,
   "id": "bec99a30",
   "metadata": {},
   "outputs": [
    {
     "name": "stdout",
     "output_type": "stream",
     "text": [
      "The value function corresponding to the wage state is 115.14044047352192 .This means for all wage states that yield an value function of 115.14044047352192 or greater, one should accept.\n"
     ]
    }
   ],
   "source": [
    "reswage_value= soln[0][list(soln[1]).index(True)]\n",
    "print('The value function corresponding to the wage state is',reswage_value,'.This means for all wage states that yield an value function of',reswage_value,'or greater, one should accept.')"
   ]
  },
  {
   "cell_type": "code",
   "execution_count": 21,
   "id": "1c249f0a",
   "metadata": {
    "scrolled": true
   },
   "outputs": [
    {
     "name": "stdout",
     "output_type": "stream",
     "text": [
      "This corresponds to the wage value of 1.7271066071028303 .One must still recover the exact wage by backing out the state value from the formulation of w_vals\n"
     ]
    }
   ],
   "source": [
    "reswage = model_2.w_vals[list(soln[1]).index(True)]\n",
    "print('This corresponds to the wage value of',reswage,'.One must still recover the exact wage by backing out the state value from the formulation of w_vals')"
   ]
  },
  {
   "cell_type": "markdown",
   "id": "547d0995",
   "metadata": {},
   "source": [
    "$\\text{Question 3}$"
   ]
  },
  {
   "cell_type": "markdown",
   "id": "531c0c9a",
   "metadata": {},
   "source": [
    "$\\text{a)}$ Consider the following Bellman Equation that is defined peice-wise to modify the model by letting the unemployment\n",
    "compensation $c$ be reduced to a subsistence level $\\frac{c}{2}$ after $T_c=24$ periods of unemployment: $$ \\begin{align*}\n",
    "\\left(Tv^{*}_{u}\\right)\\left(w\\right)=\\max\\left\\{ \\frac{1}{1-\\beta\\left(1-\\alpha\\right)}\\left(w+\\alpha\\beta\\left(Pv_{u}^{*}\\right)\\left(w\\right)\\right),\\begin{cases} c+\\beta\\left(Pv_{u}^{*}\\right)\\left(w\\right) & \\text{for $T_c \\leq 24$} \\\\ \\frac{c}{2}+\\beta\\left(Pv_{u}^{*}\\right)\\left(w\\right) & \\text{for $T_c > 24$}\n",
    "\\end{cases}\n",
    "\\right\\} \n",
    "\\end{align*}$$"
   ]
  },
  {
   "cell_type": "markdown",
   "id": "35a115b0",
   "metadata": {},
   "source": [
    "$\\text{b)}$ Given that our function is defined piece-wise for a range of periods, the reservation wage calculated by the value of the wage where the left hand term of the max problem is equal to the right hand. It is easy to see that the reservation wage varies over a spell of unemployment given the peice-wise charectrization. "
   ]
  },
  {
   "cell_type": "markdown",
   "id": "b9e70599",
   "metadata": {},
   "source": [
    "$\\text{c)}$"
   ]
  },
  {
   "cell_type": "code",
   "execution_count": 61,
   "id": "9c6089b9",
   "metadata": {},
   "outputs": [],
   "source": [
    "# NamedTuple Model\n",
    "Model = namedtuple(\"Model\", (\"n\", \"w_vals\", \"P\", \"β\", \"c\", \"α\"))\n",
    "\n",
    "\n",
    "def create_js_with_sep_model(\n",
    "        n=200,          # wage grid size\n",
    "        ρ=0.9, ν=0.2,   # wage persistence and volatility\n",
    "        β=0.98, α=0.1,  # discount factor and separation rate\n",
    "        c=1.0):         # unemployment compensation\n",
    "    \"\"\"Creates an instance of the job search model with separation.\"\"\"\n",
    "    mc = tauchen(n, ρ, ν)\n",
    "    w_vals, P = np.exp(mc.state_values), mc.P\n",
    "    return Model(n=n, w_vals=w_vals, P=P, β=β, c=c, α=α)"
   ]
  },
  {
   "cell_type": "code",
   "execution_count": 84,
   "id": "d260f7c4",
   "metadata": {},
   "outputs": [],
   "source": [
    "@njit\n",
    "# First peice-wise charectrization of operator \n",
    "def T_2(v, model): \n",
    "    \"\"\"The Bellman operator for the value of being unemployed.\"\"\"\n",
    "    n, w_vals, P, β, c, α = model\n",
    "    d = 1 / (1 - β * (1 - α))\n",
    "    accept = d * (w_vals + α * β * np.dot(P, v))\n",
    "    reject = c + β * np.dot(P, v)\n",
    "    return np.maximum(accept, reject)"
   ]
  },
  {
   "cell_type": "code",
   "execution_count": 85,
   "id": "c7be310b",
   "metadata": {},
   "outputs": [],
   "source": [
    "@njit\n",
    "#Second piece-wise charectrization of operator \n",
    "def T_3(v, model):\n",
    "    \"\"\"The Bellman operator for the value of being unemployed.\"\"\"\n",
    "    n, w_vals, P, β, c, α = model\n",
    "    d = 1 / (1 - β * (1 - α))\n",
    "    accept = d * (w_vals + α * β * np.dot(P, v))\n",
    "    reject = c/2 + β * np.dot(P, v)\n",
    "    return np.maximum(accept, reject)"
   ]
  },
  {
   "cell_type": "code",
   "execution_count": 86,
   "id": "bfa9df8d",
   "metadata": {},
   "outputs": [],
   "source": [
    "@njit\n",
    "# First peice-wise charectrization of policy \n",
    "def get_greedy_sep(v, model):\n",
    "    \"\"\" Get a v-greedy policy.\"\"\"\n",
    "    n, w_vals, P, β, c, α = model\n",
    "    d = 1 / (1 - β * (1 - α))\n",
    "    accept = d * (w_vals + α * β * np.dot(P, v))\n",
    "    reject = c + β * np.dot(P, v)\n",
    "    σ = accept >= reject\n",
    "    return σ"
   ]
  },
  {
   "cell_type": "code",
   "execution_count": 87,
   "id": "cae85477",
   "metadata": {},
   "outputs": [],
   "source": [
    "@njit\n",
    "# Second peice-wise charectrization of policy \n",
    "def get_greedy_sep_3(v, model):\n",
    "    \"\"\" Get a v-greedy policy.\"\"\"\n",
    "    n, w_vals, P, β, c, α = model\n",
    "    d = 1 / (1 - β * (1 - α))\n",
    "    accept = d * (w_vals + α * β * np.dot(P, v))\n",
    "    reject = c/2 + β * np.dot(P, v)\n",
    "    σ = accept >= reject\n",
    "    return σ"
   ]
  },
  {
   "cell_type": "code",
   "execution_count": 163,
   "id": "146778ac",
   "metadata": {},
   "outputs": [],
   "source": [
    "def vfi_sep(model):\n",
    "    \"\"\"Solve by VFI.\"\"\"\n",
    "    v_init = np.zeros(model.w_vals.shape)\n",
    "    v_star = compute_fixed_point(lambda v: T_2(v, model), v_init, error_tol=1e-5, max_iter=1000, print_skip=25)\n",
    "    σ_star = get_greedy_sep(v_star, model)\n",
    "    return v_star, σ_star"
   ]
  },
  {
   "cell_type": "code",
   "execution_count": 166,
   "id": "fbda5c86",
   "metadata": {},
   "outputs": [],
   "source": [
    "def vfi_sep_new(model):\n",
    "    \"\"\"Solve by VFI.\"\"\"\n",
    "    v_init = np.zeros(model.w_vals.shape)\n",
    "    v_star = compute_fixed_point(lambda v: T_3(v, model), v_init, error_tol=1e-5, max_iter=1000, print_skip=25)\n",
    "    σ_star = get_greedy_sep_3(v_star, model)\n",
    "    return v_star, σ_star"
   ]
  },
  {
   "cell_type": "code",
   "execution_count": 156,
   "id": "3e262df2",
   "metadata": {},
   "outputs": [],
   "source": [
    "# Create a function that uses an instance as an arguement and checks whether we have acceptance in first 24 periods if yes use the first charectrization if not use the second to solve for optimal v and sigma star.  \n",
    "def Substinence(model): \n",
    "    result = vfi_sep(model)\n",
    "    if result[1][24]== True:  \n",
    "        return result[0], result[1]  \n",
    "    else:\n",
    "        return vfi_sep_new(model_3)"
   ]
  },
  {
   "cell_type": "code",
   "execution_count": 158,
   "id": "7f896020",
   "metadata": {},
   "outputs": [
    {
     "name": "stdout",
     "output_type": "stream",
     "text": [
      "Iteration    Distance       Elapsed (seconds)\n",
      "---------------------------------------------\n",
      "25           1.077e+00      3.699e-03         \n",
      "50           3.114e-01      6.844e-03         \n",
      "75           1.093e-01      1.116e-02         \n",
      "100          4.149e-02      1.564e-02         \n",
      "125          1.621e-02      1.886e-02         \n",
      "150          6.367e-03      2.214e-02         \n",
      "175          2.502e-03      2.522e-02         \n",
      "200          9.894e-04      2.825e-02         \n",
      "225          3.953e-04      3.167e-02         \n",
      "250          1.580e-04      3.642e-02         \n",
      "275          6.318e-05      4.089e-02         \n",
      "300          2.526e-05      4.489e-02         \n",
      "325          1.010e-05      4.893e-02         \n",
      "326          9.736e-06      4.911e-02         \n",
      "Converged in 326 steps\n",
      "Iteration    Distance       Elapsed (seconds)\n",
      "---------------------------------------------\n",
      "25           8.403e-01      3.994e-03         \n",
      "50           1.893e-01      8.334e-03         \n",
      "75           5.012e-02      1.210e-02         \n",
      "100          1.414e-02      1.613e-02         \n",
      "125          4.085e-03      1.963e-02         \n",
      "150          1.190e-03      2.274e-02         \n",
      "175          3.466e-04      2.588e-02         \n",
      "200          1.010e-04      2.899e-02         \n",
      "225          2.941e-05      3.205e-02         \n",
      "247          9.934e-06      3.479e-02         \n",
      "Converged in 247 steps\n"
     ]
    },
    {
     "data": {
      "text/plain": [
       "(array([ 51.42216602,  51.45542109,  51.48982826,  51.52537541,\n",
       "         51.56204913,  51.59983495,  51.6387176 ,  51.67868124,\n",
       "         51.71970968,  51.76178666,  51.80489599,  51.8490218 ,\n",
       "         51.89414874,  51.94026207,  51.9873479 ,  52.03539328,\n",
       "         52.08438628,  52.13431618,  52.18517345,  52.23694988,\n",
       "         52.2896386 ,  52.34323412,  52.39773234,  52.45313061,\n",
       "         52.50942765,  52.56662361,  52.62472002,  52.6837198 ,\n",
       "         52.74362718,  52.80444776,  52.8661884 ,  52.92885724,\n",
       "         52.99246363,  53.05701815,  53.12253256,  53.18901975,\n",
       "         53.25649377,  53.32496977,  53.394464  ,  53.46499379,\n",
       "         53.53657755,  53.60923476,  53.68298596,  53.75785278,\n",
       "         53.83385789,  53.91102508,  53.9893792 ,  54.06894623,\n",
       "         54.14975327,  54.23182858,  54.31520158,  54.39990291,\n",
       "         54.48596444,  54.57341929,  54.66230193,  54.75264815,\n",
       "         54.84449514,  54.93788154,  55.03284749,  55.12943469,\n",
       "         55.22768644,  55.32764773,  55.42936533,  55.5328878 ,\n",
       "         55.63826564,  55.74555136,  55.85479954,  55.96606698,\n",
       "         56.0794128 ,  56.19489851,  56.3125882 ,  56.43254863,\n",
       "         56.55484939,  56.67956303,  56.80676523,  56.93653493,\n",
       "         57.06895455,  57.20411009,  57.34209137,  57.48299214,\n",
       "         57.62691029,  57.77394801,  57.92421193,  58.07781328,\n",
       "         58.23486801,  58.39549694,  58.55982576,  58.72798521,\n",
       "         58.90011099,  59.07634384,  59.25682942,  59.44171825,\n",
       "         59.63116553,  59.82533095,  60.02437842,  60.22847574,\n",
       "         60.43779419,  60.65250812,  60.87279443,  61.09883194,\n",
       "         61.33080084,  61.56888195,  61.81325604,  62.064103  ,\n",
       "         62.32160109,  62.58592613,  62.85725059,  63.13574286,\n",
       "         63.42156633,  63.71487867,  64.01583099,  64.32456716,\n",
       "         64.64122315,  64.9659264 ,  65.2987953 ,  65.70464187,\n",
       "         66.14712864,  66.59882499,  67.05982606,  67.53021869,\n",
       "         68.01008143,  68.49948467,  68.99849087,  69.50715483,\n",
       "         70.02552403,  70.55363907,  71.09153413,  71.63923746,\n",
       "         72.19677195,  72.7641557 ,  73.34140262,  73.92852301,\n",
       "         74.52552414,  75.13241086,  75.74918615,  76.37585164,\n",
       "         77.0124081 ,  77.65885594,  78.31519554,  78.98142767,\n",
       "         79.65755379,  80.34357626,  81.03949856,  81.74532542,\n",
       "         82.4610629 ,  83.18671837,  83.92230052,  84.66781924,\n",
       "         85.42328545,  86.18871092,  86.96410796,  87.74948916,\n",
       "         88.54486696,  89.35025323,  90.1656588 ,  90.99109289,\n",
       "         91.8265625 ,  92.67207174,  93.52762106,  94.39320649,\n",
       "         95.26881869,  96.154442  ,  97.05005339,  97.95562132,\n",
       "         98.87110452,  99.79645064, 100.73159491, 101.67645855,\n",
       "        102.63094728, 103.59494962, 104.56833516, 105.55095276,\n",
       "        106.54262878, 107.54316514, 108.55233753, 109.56989354,\n",
       "        110.5955509 , 111.62899576, 112.66988114, 113.71782553,\n",
       "        114.77241171, 115.83318574, 116.89965641, 117.97129487,\n",
       "        119.04753478, 120.12777278, 121.21136952, 122.29765119,\n",
       "        123.38591151, 124.47541437, 125.56539699, 126.65507364,\n",
       "        127.74363999, 128.83027792, 129.91416087, 130.99445973,\n",
       "        132.07034899, 133.14101337, 134.20565467, 135.26349873]),\n",
       " array([False, False, False, False, False, False, False, False, False,\n",
       "        False, False, False, False, False, False, False, False, False,\n",
       "        False, False, False, False, False, False, False, False, False,\n",
       "        False, False, False, False, False, False, False, False, False,\n",
       "        False, False, False, False, False, False, False, False, False,\n",
       "        False, False, False, False, False, False, False, False, False,\n",
       "        False, False, False, False, False, False, False, False, False,\n",
       "        False, False, False, False, False, False, False, False, False,\n",
       "        False, False, False, False, False, False, False, False, False,\n",
       "        False, False, False, False, False, False, False, False, False,\n",
       "        False, False, False, False, False, False, False, False, False,\n",
       "        False, False, False, False, False, False, False, False, False,\n",
       "        False, False, False, False, False, False, False,  True,  True,\n",
       "         True,  True,  True,  True,  True,  True,  True,  True,  True,\n",
       "         True,  True,  True,  True,  True,  True,  True,  True,  True,\n",
       "         True,  True,  True,  True,  True,  True,  True,  True,  True,\n",
       "         True,  True,  True,  True,  True,  True,  True,  True,  True,\n",
       "         True,  True,  True,  True,  True,  True,  True,  True,  True,\n",
       "         True,  True,  True,  True,  True,  True,  True,  True,  True,\n",
       "         True,  True,  True,  True,  True,  True,  True,  True,  True,\n",
       "         True,  True,  True,  True,  True,  True,  True,  True,  True,\n",
       "         True,  True,  True,  True,  True,  True,  True,  True,  True,\n",
       "         True,  True]))"
      ]
     },
     "execution_count": 158,
     "metadata": {},
     "output_type": "execute_result"
    }
   ],
   "source": [
    "model_3=create_js_with_sep_model() # Create instance \n",
    "Substinence(model_3) #Use as argument"
   ]
  },
  {
   "cell_type": "markdown",
   "id": "d3e228db",
   "metadata": {},
   "source": [
    "$\\text{d)}$"
   ]
  },
  {
   "cell_type": "code",
   "execution_count": 172,
   "id": "95b6dec9",
   "metadata": {},
   "outputs": [],
   "source": [
    "default_model = create_js_with_sep_model()\n",
    "\n",
    "\n",
    "def plot_main(model=default_model,\n",
    "              savefig=False,\n",
    "              figname=\"./figures/markov_js_with_sep_1.pdf\"):\n",
    "    n, w_vals, P, β, c, α = model\n",
    "    v_star, σ_star = Substinence(model)\n",
    "\n",
    "    d = 1 / (1 - β * (1 - α))\n",
    "    accept = d * (w_vals + α * β * np.dot(P, v_star))\n",
    "    h_star = c + β * np.dot(P, v_star)\n",
    "\n",
    "    w_star = np.inf\n",
    "    for (i, w) in enumerate(w_vals):\n",
    "        if accept[i] >= h_star[i]:\n",
    "            w_star = w\n",
    "            break\n",
    "\n",
    "    assert w_star != np.inf, \"Agent never accepts\"\n",
    "\n",
    "    fig, ax = plt.subplots(figsize=(9, 5.2))\n",
    "    ax.plot(w_vals, h_star, linewidth=4, ls=\"--\", alpha=0.4,\n",
    "            label=\"continuation value\")\n",
    "    ax.plot(w_vals, accept, linewidth=4, ls=\"--\", alpha=0.4,\n",
    "            label=\"stopping value\")\n",
    "    ax.plot(w_vals, v_star, \"k-\", alpha=0.7, label=r\"$v_u^*(w)$\")\n",
    "    ax.legend(frameon=False)\n",
    "    ax.set_xlabel(r\"$w$\")\n",
    "    if savefig:\n",
    "        fig.savefig(figname)"
   ]
  },
  {
   "cell_type": "code",
   "execution_count": 173,
   "id": "9a699eb3",
   "metadata": {},
   "outputs": [
    {
     "name": "stdout",
     "output_type": "stream",
     "text": [
      "Iteration    Distance       Elapsed (seconds)\n",
      "---------------------------------------------\n",
      "25           1.077e+00      3.772e-03         \n",
      "50           3.114e-01      7.356e-03         \n",
      "75           1.093e-01      1.065e-02         \n",
      "100          4.149e-02      1.375e-02         \n",
      "125          1.621e-02      1.858e-02         \n",
      "150          6.367e-03      2.264e-02         \n",
      "175          2.502e-03      2.671e-02         \n",
      "200          9.894e-04      3.080e-02         \n",
      "225          3.953e-04      3.472e-02         \n",
      "250          1.580e-04      3.853e-02         \n",
      "275          6.318e-05      4.257e-02         \n",
      "300          2.526e-05      4.679e-02         \n",
      "325          1.010e-05      5.069e-02         \n",
      "326          9.736e-06      5.086e-02         \n",
      "Converged in 326 steps\n",
      "Iteration    Distance       Elapsed (seconds)\n",
      "---------------------------------------------\n",
      "25           8.403e-01      4.459e-03         \n",
      "50           1.893e-01      8.273e-03         \n",
      "75           5.012e-02      1.222e-02         \n",
      "100          1.414e-02      1.601e-02         \n",
      "125          4.085e-03      1.924e-02         \n",
      "150          1.190e-03      2.254e-02         \n",
      "175          3.466e-04      2.555e-02         \n",
      "200          1.010e-04      2.861e-02         \n",
      "225          2.941e-05      3.159e-02         \n",
      "247          9.934e-06      3.422e-02         \n",
      "Converged in 247 steps\n"
     ]
    },
    {
     "data": {
      "image/png": "[encoded data removed]",
      "text/plain": [
       "<Figure size 900x520 with 1 Axes>"
      ]
     },
     "metadata": {},
     "output_type": "display_data"
    }
   ],
   "source": [
    "plot_main()"
   ]
  }
 ],
 "metadata": {
  "kernelspec": {
   "display_name": "Python 3 (ipykernel)",
   "language": "python",
   "name": "python3"
  },
  "language_info": {
   "codemirror_mode": {
    "name": "ipython",
    "version": 3
   },
   "file_extension": ".py",
   "mimetype": "text/x-python",
   "name": "python",
   "nbconvert_exporter": "python",
   "pygments_lexer": "ipython3",
   "version": "3.11.5"
  }
 },
 "nbformat": 4,
 "nbformat_minor": 5
}
